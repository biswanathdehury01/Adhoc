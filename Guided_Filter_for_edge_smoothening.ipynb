{
  "nbformat": 4,
  "nbformat_minor": 0,
  "metadata": {
    "colab": {
      "provenance": []
    },
    "kernelspec": {
      "name": "python3",
      "display_name": "Python 3"
    },
    "language_info": {
      "name": "python"
    }
  },
  "cells": [
    {
      "cell_type": "code",
      "execution_count": null,
      "metadata": {
        "id": "ea3RddR0zHHL"
      },
      "outputs": [],
      "source": [
        "import cv2\n",
        "import numpy as np\n",
        "import matplotlib.pyplot as plt\n",
        "\n",
        "# Load the image\n",
        "image = cv2.imread('image.jpg')\n",
        "\n",
        "# Convert the image to grayscale\n",
        "gray = cv2.cvtColor(image, cv2.COLOR_BGR2GRAY)\n",
        "\n",
        "# Apply the Guided Filter for edge smoothening\n",
        "smoothed = cv2.ximgproc.guidedFilter(gray, gray, radius=10, eps=0.1)\n",
        "\n",
        "# Convert the smoothed image back to color\n",
        "smoothed = cv2.cvtColor(smoothed, cv2.COLOR_GRAY2BGR)\n",
        "\n",
        "# Display the original and smoothed images\n",
        "fig, axs = plt.subplots(1, 2, figsize=(10, 5))\n",
        "\n",
        "# Original image\n",
        "axs[0].imshow(cv2.cvtColor(image, cv2.COLOR_BGR2RGB))\n",
        "axs[0].set_title('Original Image')\n",
        "\n",
        "# Smoothed image\n",
        "axs[1].imshow(cv2.cvtColor(smoothed, cv2.COLOR_BGR2RGB))\n",
        "axs[1].set_title('Smoothed Image')\n",
        "\n",
        "# Remove the axes\n",
        "for ax in axs:\n",
        "    ax.axis('off')\n",
        "\n",
        "# Adjust the spacing between subplots\n",
        "plt.tight_layout()\n",
        "\n",
        "# Show the plot\n",
        "plt.show()\n"
      ]
    }
  ]
}