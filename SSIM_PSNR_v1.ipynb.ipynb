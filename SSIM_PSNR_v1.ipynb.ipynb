{
  "nbformat": 4,
  "nbformat_minor": 0,
  "metadata": {
    "colab": {
      "provenance": []
    },
    "kernelspec": {
      "name": "python3",
      "display_name": "Python 3"
    },
    "language_info": {
      "name": "python"
    }
  },
  "cells": [
    {
      "cell_type": "code",
      "execution_count": 1,
      "metadata": {
        "id": "qMZSQyZn6NFb"
      },
      "outputs": [],
      "source": [
        "import os\n",
        "import cv2\n",
        "import numpy as np\n",
        "from skimage.metrics import structural_similarity as ssim\n",
        "import csv\n",
        "\n",
        "# Paths to folders\n",
        "original_folder = \"path_to_original_images_folder\"\n",
        "segmented_folder = \"path_to_segmented_images_folder\"\n",
        "output_csv_path = \"output_scores.csv\"\n",
        "\n",
        "# Get the list of image files in both folders (ignoring extensions)\n",
        "original_images = [os.path.splitext(name)[0] for name in os.listdir(original_folder)]\n",
        "segmented_images = [os.path.splitext(name)[0] for name in os.listdir(segmented_folder)]\n",
        "\n",
        "# Initialize lists to store scores\n",
        "image_names = []\n",
        "psnr_scores = []\n",
        "ssim_scores = []\n",
        "\n",
        "for img_name in original_images:\n",
        "    if img_name in segmented_images:\n",
        "        original_path = os.path.join(original_folder, img_name + \".jpg\")  # Add the desired image extension\n",
        "        segmented_path = os.path.join(segmented_folder, img_name + \".png\")  # Add the desired image extension\n",
        "\n",
        "        original_image = cv2.imread(original_path)\n",
        "        segmented_image = cv2.imread(segmented_path)\n",
        "\n",
        "        # Calculate PSNR\n",
        "        mse = np.mean((original_image - segmented_image) ** 2)\n",
        "        psnr = 20 * np.log10(255.0 / np.sqrt(mse))\n",
        "\n",
        "        # Calculate SSIM\n",
        "        original_gray = cv2.cvtColor(original_image, cv2.COLOR_BGR2GRAY)\n",
        "        segmented_gray = cv2.cvtColor(segmented_image, cv2.COLOR_BGR2GRAY)\n",
        "        ssim_score = ssim(original_gray, segmented_gray)\n",
        "\n",
        "        # Store scores and image name\n",
        "        image_names.append(img_name)\n",
        "        psnr_scores.append(psnr)\n",
        "        ssim_scores.append(ssim_score)\n",
        "\n",
        "# Combine data into a list of tuples\n",
        "data = list(zip(image_names, psnr_scores, ssim_scores))\n",
        "\n",
        "# Write data to CSV\n",
        "with open(output_csv_path, mode='w', newline='') as file:\n",
        "    writer = csv.writer(file)\n",
        "    writer.writerow([\"Image Name\", \"PSNR\", \"SSIM\"])\n",
        "    writer.writerows(data)\n",
        "\n",
        "print(\"Scores saved to\", output_csv_path)\n"
      ]
    },
    {
      "cell_type": "code",
      "source": [],
      "metadata": {
        "id": "0wwfM6Ed_XXK"
      },
      "execution_count": null,
      "outputs": []
    }
  ]
}