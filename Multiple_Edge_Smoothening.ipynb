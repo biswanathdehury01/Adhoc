{
 "cells": [
  {
   "cell_type": "code",
   "execution_count": null,
   "id": "8990b298",
   "metadata": {},
   "outputs": [],
   "source": [
    "import os\n",
    "import cv2\n",
    "import shutil\n",
    "\n",
    "# Function to apply an edge smoothing technique and save the result to a folder\n",
    "def apply_edge_smoothing(original_folder, output_folder, smoothing_function, **params):\n",
    "    if not os.path.exists(output_folder):\n",
    "        os.makedirs(output_folder)\n",
    "\n",
    "    for filename in os.listdir(original_folder):\n",
    "        if filename.endswith(('.png', '.jpg', '.jpeg')):\n",
    "            image_path = os.path.join(original_folder, filename)\n",
    "            original_image = cv2.imread(image_path, cv2.IMREAD_GRAYSCALE)\n",
    "\n",
    "            # Apply the edge smoothing technique\n",
    "            smoothed_image = smoothing_function(original_image, **params)\n",
    "\n",
    "            # Save the smoothed image to the output folder\n",
    "            output_path = os.path.join(output_folder, filename)\n",
    "            cv2.imwrite(output_path, smoothed_image)\n",
    "\n",
    "# Define the paths for the original segmented images folder and output folders for each technique\n",
    "original_images_folder = \"path/to/original_images_folder\"\n",
    "output_gaussian_folder = \"path/to/output/gaussian\"\n",
    "output_bilateral_folder = \"path/to/output/bilateral\"\n",
    "output_median_folder = \"path/to/output/median\"\n",
    "output_anisotropic_folder = \"path/to/output/anisotropic\"\n",
    "output_non_local_means_folder = \"path/to/output/non_local_means\"\n",
    "output_gradient_based_folder = \"path/to/output/gradient_based\"\n",
    "\n",
    "# Apply different edge smoothing techniques to the original images\n",
    "apply_edge_smoothing(original_images_folder, output_gaussian_folder, gaussian_blur, kernel_size=(5, 5), sigmaX=0)\n",
    "apply_edge_smoothing(original_images_folder, output_bilateral_folder, bilateral_filter, d=9, sigma_color=75, sigma_space=75)\n",
    "apply_edge_smoothing(original_images_folder, output_median_folder, median_filter, kernel_size=3)\n",
    "apply_edge_smoothing(original_images_folder, output_anisotropic_folder, anisotropic_diffusion, n_iter=50, delta_t=0.1, kappa=100)\n",
    "apply_edge_smoothing(original_images_folder, output_non_local_means_folder, non_local_means, h=10, h_for_color=10, template_window_size=5, search_window_size=21)\n",
    "apply_edge_smoothing(original_images_folder, output_gradient_based_folder, gradient_inverse_weighted_interpolation, alpha=0.2, threshold=30)\n"
   ]
  }
 ],
 "metadata": {
  "kernelspec": {
   "display_name": "Python 3 (ipykernel)",
   "language": "python",
   "name": "python3"
  },
  "language_info": {
   "codemirror_mode": {
    "name": "ipython",
    "version": 3
   },
   "file_extension": ".py",
   "mimetype": "text/x-python",
   "name": "python",
   "nbconvert_exporter": "python",
   "pygments_lexer": "ipython3",
   "version": "3.10.9"
  }
 },
 "nbformat": 4,
 "nbformat_minor": 5
}
