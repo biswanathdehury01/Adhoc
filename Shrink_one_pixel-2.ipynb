{
  "nbformat": 4,
  "nbformat_minor": 0,
  "metadata": {
    "colab": {
      "provenance": []
    },
    "kernelspec": {
      "name": "python3",
      "display_name": "Python 3"
    },
    "language_info": {
      "name": "python"
    }
  },
  "cells": [
    {
      "cell_type": "markdown",
      "source": [],
      "metadata": {
        "id": "SPIiEhaO179T"
      }
    },
    {
      "cell_type": "code",
      "execution_count": null,
      "metadata": {
        "id": "AJhuP9N41oe0"
      },
      "outputs": [],
      "source": [
        "import cv2\n",
        "import numpy as np\n",
        "\n",
        "def shrink_pixel(image_path):\n",
        "    # Load the image\n",
        "    image = cv2.imread(image_path)\n",
        "\n",
        "    # Convert the image to grayscale\n",
        "    gray_image = cv2.cvtColor(image, cv2.COLOR_BGR2GRAY)\n",
        "\n",
        "    # Apply a Gaussian blur to smooth the edges\n",
        "    blurred_image = cv2.GaussianBlur(gray_image, (5, 5), 0)\n",
        "\n",
        "    # Find edges using the Canny edge detection\n",
        "    edges = cv2.Canny(blurred_image, 100, 200)\n",
        "\n",
        "    # Create a mask to dilate the edges\n",
        "    kernel = np.ones((3, 3), np.uint8)\n",
        "    dilated_edges = cv2.dilate(edges, kernel, iterations=1)\n",
        "\n",
        "    # Invert the mask\n",
        "    dilated_edges = cv2.bitwise_not(dilated_edges)\n",
        "\n",
        "    # Remove the jagged edges by bitwise-ANDing the mask with the original image\n",
        "    result_image = cv2.bitwise_and(image, image, mask=dilated_edges)\n",
        "\n",
        "    # Save the result\n",
        "    cv2.imwrite(\"output_image.png\", result_image)\n",
        "\n",
        "    # Display the images (optional)\n",
        "    cv2.imshow(\"Original Image\", image)\n",
        "    cv2.imshow(\"Result Image\", result_image)\n",
        "    cv2.waitKey(0)\n",
        "    cv2.destroyAllWindows()\n",
        "\n",
        "if __name__ == \"__main__\":\n",
        "    image_path = \"path_to_your_image.jpg\"  # Replace with the path to your input image\n",
        "    shrink_pixel(image_path)\n"
      ]
    },
    {
      "cell_type": "code",
      "source": [
        "import cv2\n",
        "import numpy as np\n",
        "\n",
        "def dent_and_shrink_border(image_path):\n",
        "    # Load the image\n",
        "    image = cv2.imread(image_path)\n",
        "\n",
        "    # Convert the image to grayscale\n",
        "    gray_image = cv2.cvtColor(image, cv2.COLOR_BGR2GRAY)\n",
        "\n",
        "    # Apply a Gaussian blur to smooth the edges\n",
        "    blurred_image = cv2.GaussianBlur(gray_image, (5, 5), 0)\n",
        "\n",
        "    # Find edges using the Canny edge detection\n",
        "    edges = cv2.Canny(blurred_image, 100, 200)\n",
        "\n",
        "    # Create a mask to dilate the edges\n",
        "    kernel = np.ones((3, 3), np.uint8)\n",
        "    dilated_edges = cv2.dilate(edges, kernel, iterations=1)\n",
        "\n",
        "    # Find contours in the image\n",
        "    contours, _ = cv2.findContours(dilated_edges, cv2.RETR_EXTERNAL, cv2.CHAIN_APPROX_SIMPLE)\n",
        "\n",
        "    # Dent the border edges of the entire object\n",
        "    for contour in contours:\n",
        "        epsilon = 0.01 * cv2.arcLength(contour, True)\n",
        "        approx = cv2.approxPolyDP(contour, epsilon, True)\n",
        "        cv2.drawContours(image, [approx], 0, (0, 0, 0), -1)  # Fill the contour with black\n",
        "\n",
        "    # Downsize the border by 1 pixel\n",
        "    border_mask = cv2.dilate(dilated_edges, kernel, iterations=1)\n",
        "    result_image = cv2.bitwise_and(image, image, mask=cv2.bitwise_not(border_mask))\n",
        "\n",
        "    # Save the result\n",
        "    cv2.imwrite(\"output_image.png\", result_image)\n",
        "\n",
        "    # Display the images (optional)\n",
        "    cv2.imshow(\"Original Image\", image)\n",
        "    cv2.imshow(\"Result Image\", result_image)\n",
        "    cv2.waitKey(0)\n",
        "    cv2.destroyAllWindows()\n",
        "\n",
        "if __name__ == \"__main__\":\n",
        "    image_path = \"path_to_your_image.jpg\"  # Replace with the path to your input image\n",
        "    dent_and_shrink_border(image_path)\n"
      ],
      "metadata": {
        "id": "YlBNny1T3C_m"
      },
      "execution_count": null,
      "outputs": []
    }
  ]
}