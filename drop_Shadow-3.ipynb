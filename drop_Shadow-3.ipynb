{
  "nbformat": 4,
  "nbformat_minor": 0,
  "metadata": {
    "colab": {
      "provenance": []
    },
    "kernelspec": {
      "name": "python3",
      "display_name": "Python 3"
    },
    "language_info": {
      "name": "python"
    }
  },
  "cells": [
    {
      "cell_type": "code",
      "execution_count": null,
      "metadata": {
        "id": "6RPOToEjOLyS"
      },
      "outputs": [],
      "source": [
        "import cv2\n",
        "import numpy as np\n",
        "import matplotlib.pyplot as plt\n",
        "\n",
        "def generate_drop_shadow(image, shadow_offset=(10, 10), shadow_opacity=0.7):\n",
        "    # Convert the image to grayscale\n",
        "    gray_image = cv2.cvtColor(image, cv2.COLOR_BGR2GRAY)\n",
        "\n",
        "    # Threshold the grayscale image to create a binary mask\n",
        "    _, thresholded_mask = cv2.threshold(gray_image, 1, 255, cv2.THRESH_BINARY)\n",
        "\n",
        "    # Find the contours of the object\n",
        "    contours, _ = cv2.findContours(thresholded_mask, cv2.RETR_EXTERNAL, cv2.CHAIN_APPROX_SIMPLE)\n",
        "\n",
        "    # Create a blank mask to draw the shadows on\n",
        "    shadow_mask = np.zeros_like(image)\n",
        "\n",
        "    # Draw shadows for each contour\n",
        "    for contour in contours:\n",
        "        # Create a copy of the image\n",
        "        shadow_image = image.copy()\n",
        "\n",
        "        # Find the bounding box of the contour\n",
        "        x, y, w, h = cv2.boundingRect(contour)\n",
        "\n",
        "        # Create a shadow by darkening the region outside the contour\n",
        "        shadow_image[thresholded_mask == 0] = (shadow_image[thresholded_mask == 0] * shadow_opacity).astype(np.uint8)\n",
        "\n",
        "        # Offset the shadow\n",
        "        M = np.float32([[1, 0, shadow_offset[0]], [0, 1, shadow_offset[1]]])\n",
        "        shadow_image = cv2.warpAffine(shadow_image, M, (shadow_image.shape[1], shadow_image.shape[0]))\n",
        "\n",
        "        # Combine the shadow with the original image\n",
        "        shadow_mask = cv2.addWeighted(shadow_mask, 1, shadow_image, 1, 0)\n",
        "\n",
        "    # Combine the original image with the drop shadow mask\n",
        "    result = cv2.addWeighted(image, 1, shadow_mask, 0.8, 0)\n",
        "\n",
        "    return result\n",
        "\n",
        "# Load the isolated object (car) image\n",
        "image_path = 'path/to/your/car_image.png'\n",
        "image = cv2.imread(image_path)\n",
        "\n",
        "# Generate the drop shadow for the car\n",
        "result_image = generate_drop_shadow(image)\n",
        "\n",
        "# Display both original and shadowed images side by side\n",
        "fig, axes = plt.subplots(1, 2, figsize=(10, 5))\n",
        "\n",
        "# Display the original image\n",
        "axes[0].imshow(cv2.cvtColor(image, cv2.COLOR_BGR2RGB))\n",
        "axes[0].set_title('Original Image')\n",
        "axes[0].axis('off')\n",
        "\n",
        "# Display the shadowed image\n",
        "axes[1].imshow(cv2.cvtColor(result_image, cv2.COLOR_BGR2RGB))\n",
        "axes[1].set_title('Shadowed Image')\n",
        "axes[1].axis('off')\n",
        "\n",
        "plt.show()\n"
      ]
    }
  ]
}