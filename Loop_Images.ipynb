{
  "nbformat": 4,
  "nbformat_minor": 0,
  "metadata": {
    "colab": {
      "provenance": []
    },
    "kernelspec": {
      "name": "python3",
      "display_name": "Python 3"
    },
    "language_info": {
      "name": "python"
    }
  },
  "cells": [
    {
      "cell_type": "code",
      "execution_count": null,
      "metadata": {
        "id": "7l-U8R63TP5o"
      },
      "outputs": [],
      "source": [
        "import cv2\n",
        "import numpy as np\n",
        "import os\n",
        "\n",
        "def smooth_edges(mask, kernel_size):\n",
        "    kernel = np.ones((kernel_size, kernel_size), np.uint8)\n",
        "    smoothed_edges = cv2.dilate(mask, kernel, iterations=1)\n",
        "    return smoothed_edges\n",
        "\n",
        "def bilateral_filter(image, d=9, sigma_color=75, sigma_space=75):\n",
        "    smoothed_image = cv2.bilateralFilter(image, d, sigma_color, sigma_space)\n",
        "    return smoothed_image\n",
        "\n",
        "# Path to the folder containing the input images\n",
        "input_folder = \"input_images\"\n",
        "\n",
        "# Path to the folder where the processed images will be stored\n",
        "output_folder = \"output_images\"\n",
        "\n",
        "# Create the output folder if it doesn't exist\n",
        "if not os.path.exists(output_folder):\n",
        "    os.makedirs(output_folder)\n",
        "\n",
        "# Get a list of all the image files in the input folder\n",
        "image_files = [f for f in os.listdir(input_folder) if f.endswith(\".jpg\")]\n",
        "\n",
        "for image_file in image_files:\n",
        "    # Read the image\n",
        "    image_path = os.path.join(input_folder, image_file)\n",
        "    binary_image = cv2.imread(image_path)\n",
        "\n",
        "    # Apply smoothing and bilateral filtering\n",
        "    smoothed_image = smooth_edges(binary_image, kernel_size=11)\n",
        "    bilateral_filtered_image = bilateral_filter(smoothed_image, d=9, sigma_color=75, sigma_space=75)\n",
        "\n",
        "    # Save the processed image in the output folder with the same name ßas the original image\n",
        "    output_path = os.path.join(output_folder, image_file)\n",
        "    cv2.imwrite(output_path, bilateral_filtered_image)\n",
        "\n",
        "print(\"Processing complete. Images saved in the output folder.\")\n"
      ]
    }
  ]
}