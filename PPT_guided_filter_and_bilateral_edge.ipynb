{
  "nbformat": 4,
  "nbformat_minor": 0,
  "metadata": {
    "colab": {
      "provenance": []
    },
    "kernelspec": {
      "name": "python3",
      "display_name": "Python 3"
    },
    "language_info": {
      "name": "python"
    }
  },
  "cells": [
    {
      "cell_type": "code",
      "execution_count": null,
      "metadata": {
        "id": "bIUVpc4M0wRk"
      },
      "outputs": [],
      "source": [
        "import os\n",
        "import cv2\n",
        "import numpy as np\n",
        "from skimage.restoration import denoise_bilateral, denoise_tv_chambolle\n",
        "from skimage import img_as_ubyte, img_as_float\n",
        "from scipy.ndimage import filters\n",
        "\n",
        "# Guided Filter function\n",
        "def guided_filter(image, radius=2, epsilon=0.1):\n",
        "    guide = cv2.cvtColor(image, cv2.COLOR_BGR2GRAY)\n",
        "    guide = img_as_float(guide)\n",
        "    p = img_as_float(image)\n",
        "    q = denoise_bilateral(guide, p, sigma_spatial=radius, sigma_color=epsilon)\n",
        "    return q\n",
        "\n",
        "# Bilateral Filter with Edge Weights function\n",
        "def bilateral_filter_with_edge_weights(image, d=9, sigma_color=75, sigma_space=75):\n",
        "    gray = cv2.cvtColor(image, cv2.COLOR_BGR2GRAY)\n",
        "    edges = cv2.Canny(gray, 100, 200)\n",
        "    dilated_edges = cv2.dilate(edges, None, iterations=2)\n",
        "    smoothed_image = denoise_bilateral(image, sigma_color=sigma_color, sigma_spatial=sigma_space, multichannel=True)\n",
        "    smoothed_image[dilated_edges > 0] = image[dilated_edges > 0]\n",
        "    return smoothed_image\n",
        "\n",
        "# Function to apply edge-aware smoothing and save the result to a folder\n",
        "def apply_edge_smoothing(original_folder, output_folder, smoothing_function, **params):\n",
        "    if not os.path.exists(output_folder):\n",
        "        os.makedirs(output_folder)\n",
        "\n",
        "    for filename in os.listdir(original_folder):\n",
        "        if filename.endswith(('.png', '.jpg', '.jpeg')):\n",
        "            image_path = os.path.join(original_folder, filename)\n",
        "            original_image = cv2.imread(image_path)\n",
        "\n",
        "            # Apply the edge-aware smoothing technique\n",
        "            smoothed_image = smoothing_function(original_image, **params)\n",
        "\n",
        "            # Convert the smoothed image back to uint8 format\n",
        "            smoothed_image = img_as_ubyte(smoothed_image)\n",
        "\n",
        "            # Save the smoothed image to the output folder\n",
        "            output_path = os.path.join(output_folder, filename)\n",
        "            cv2.imwrite(output_path, smoothed_image)\n",
        "\n",
        "# Define the paths for the original segmented images folder and output folders for each technique\n",
        "original_images_folder = \"path/to/original_images_folder\"\n",
        "output_guided_filter_folder = \"path/to/output/guided_filter\"\n",
        "output_bilateral_with_edge_weights_folder = \"path/to/output/bilateral_with_edge_weights\"\n",
        "\n",
        "# Apply edge-aware smoothing techniques to the original images\n",
        "apply_edge_smoothing(original_images_folder, output_guided_filter_folder, guided_filter, radius=2, epsilon=0.1)\n",
        "apply_edge_smoothing(original_images_folder, output_bilateral_with_edge_weights_folder, bilateral_filter_with_edge_weights, d=9, sigma_color=75, sigma_space=75)\n"
      ]
    }
  ]
}