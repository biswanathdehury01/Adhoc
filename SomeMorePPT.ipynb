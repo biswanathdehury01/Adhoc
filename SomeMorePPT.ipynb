{
  "nbformat": 4,
  "nbformat_minor": 0,
  "metadata": {
    "colab": {
      "provenance": []
    },
    "kernelspec": {
      "name": "python3",
      "display_name": "Python 3"
    },
    "language_info": {
      "name": "python"
    }
  },
  "cells": [
    {
      "cell_type": "markdown",
      "source": [
        "Morphology Operation"
      ],
      "metadata": {
        "id": "HeJWTKg1NVIv"
      }
    },
    {
      "cell_type": "code",
      "execution_count": null,
      "metadata": {
        "id": "t9b8HQngMahQ"
      },
      "outputs": [],
      "source": [
        "import cv2\n",
        "import os\n",
        "import glob\n",
        "import numpy as np\n",
        "\n",
        "def smooth_binary_images(input_path, outpßut_path, kernel_size=5):\n",
        "    # Create the output folder if it doesn't exist.\n",
        "    if not os.path.exists(output_path):\n",
        "        os.makedirs(output_path)\n",
        "\n",
        "    # Get a list of all image files (assuming they are in a supported format like jpg, png, etc.) in the input folder.\n",
        "    image_files = glob.glob(os.path.join(input_path, '*.jpg')) + glob.glob(os.path.join(input_path, '*.png'))\n",
        "\n",
        "    for image_file in image_files:\n",
        "        # Load the binary image\n",
        "        binary_image = cv2.imread(image_file, cv2.IMREAD_GRAYSCALE)\n",
        "\n",
        "        # Apply morphological operations to smoothen the binary image\n",
        "        kernel = np.ones((kernel_size, kernel_size), np.uint8)\n",
        "        smoothed_image = cv2.morphologyEx(binary_image, cv2.MORPH_CLOSE, kernel)\n",
        "\n",
        "        # Save the smoothed binary image to the output folder\n",
        "        output_file = os.path.join(output_path, os.path.basename(image_file))\n",
        "        cv2.imwrite(output_file, smoothed_image)\n",
        "\n",
        "        print(f\"Processed {image_file} successfully.\")\n",
        "\n",
        "if __name__ == \"__main__\":\n",
        "    # Replace 'input_folder' and 'output_folder' with the actual paths to your input and output folders.\n",
        "    input_folder = 'input_folder'\n",
        "    output_folder = 'output_folder'\n",
        "\n",
        "    # Specify the kernel size for the morphological operations (you can adjust this value as needed)\n",
        "    kernel_size = 5\n",
        "\n",
        "    smooth_binary_images(input_folder, output_folder, kernel_size)\n"
      ]
    },
    {
      "cell_type": "markdown",
      "source": [
        "box filter"
      ],
      "metadata": {
        "id": "6EP7b98cOAdf"
      }
    },
    {
      "cell_type": "code",
      "source": [
        "import cv2\n",
        "import os\n",
        "import glob\n",
        "\n",
        "def box_filter_binary_images(input_path, output_path, kernel_size=(5, 5)):\n",
        "    # Create the output folder if it doesn't exist.\n",
        "    if not os.path.exists(output_path):\n",
        "        os.makedirs(output_path)\n",
        "\n",
        "    # Get a list of all image files (assuming they are in a supported format like jpg, png, etc.) in the input folder.\n",
        "    image_files = glob.glob(os.path.join(input_path, '*.jpg')) + glob.glob(os.path.join(input_path, '*.png'))\n",
        "\n",
        "    for image_file in image_files:\n",
        "        # Load the binary image\n",
        "        binary_image = cv2.imread(image_file, cv2.IMREAD_GRAYSCALE)\n",
        "\n",
        "        # Apply box filter to smoothen the binary image\n",
        "        blurred_image = cv2.boxFilter(binary_image, -1, kernel_size)\n",
        "\n",
        "        # Save the smoothed binary image to the output folder\n",
        "        output_file = os.path.join(output_path, os.path.basename(image_file))\n",
        "        cv2.imwrite(output_file, blurred_image)\n",
        "\n",
        "        print(f\"Processed {image_file} successfully.\")\n",
        "\n",
        "if __name__ == \"__main__\":\n",
        "    # Replace 'input_folder' and 'output_folder' with the actual paths to your input and output folders.\n",
        "    input_folder = 'input_folder'\n",
        "    output_folder = 'output_folder'\n",
        "\n",
        "    # Specify the kernel size for the box filter (you can adjust this value as needed)\n",
        "    kernel_size = (5, 5)\n",
        "\n",
        "    box_filter_binary_images(input_folder, output_folder, kernel_size)\n"
      ],
      "metadata": {
        "id": "eNbOS861MrIR"
      },
      "execution_count": null,
      "outputs": []
    },
    {
      "cell_type": "code",
      "source": [],
      "metadata": {
        "id": "gIeEiRcGOCsK"
      },
      "execution_count": null,
      "outputs": []
    },
    {
      "cell_type": "markdown",
      "source": [
        "Mean Shift"
      ],
      "metadata": {
        "id": "mIRGpg2nOH7R"
      }
    },
    {
      "cell_type": "code",
      "source": [
        "import cv2\n",
        "import os\n",
        "import glob\n",
        "\n",
        "def mean_shift_filter_binary_images(input_path, output_path, spatial_radius=10, color_radius=10, max_level=1):\n",
        "    # Create the output folder if it doesn't exist.\n",
        "    if not os.path.exists(output_path):\n",
        "        os.makedirs(output_path)\n",
        "\n",
        "    # Get a list of all image files (assuming they are in a supported format like jpg, png, etc.) in the input folder.\n",
        "    image_files = glob.glob(os.path.join(input_path, '*.jpg')) + glob.glob(os.path.join(input_path, '*.png'))\n",
        "\n",
        "    for image_file in image_files:\n",
        "        # Load the binary image\n",
        "        binary_image = cv2.imread(image_file, cv2.IMREAD_GRAYSCALE)\n",
        "\n",
        "        # Apply mean shift filtering to smoothen the binary image\n",
        "        smoothed_image = cv2.pyrMeanShiftFiltering(binary_image, spatial_radius, color_radius, max_level)\n",
        "\n",
        "        # Save the smoothed binary image to the output folder\n",
        "        output_file = os.path.join(output_path, os.path.basename(image_file))\n",
        "        cv2.imwrite(output_file, smoothed_image)\n",
        "\n",
        "        print(f\"Processed {image_file} successfully.\")\n",
        "\n",
        "if __name__ == \"__main__\":\n",
        "    # Replace 'input_folder' and 'output_folder' with the actual paths to your input and output folders.\n",
        "    input_folder = 'input_folder'\n",
        "    output_folder = 'output_folder'\n",
        "\n",
        "    # Specify the parameters for mean shift filtering (you can adjust these values as needed)\n",
        "    spatial_radius = 10\n",
        "    color_radius = 10\n",
        "    max_level = 1\n",
        "\n",
        "    mean_shift_filter_binary_images(input_folder, output_folder, spatial_radius, color_radius, max_level)\n"
      ],
      "metadata": {
        "id": "Di4yFETyOCpK"
      },
      "execution_count": null,
      "outputs": []
    },
    {
      "cell_type": "markdown",
      "source": [
        "Adaptive Thresholding\n"
      ],
      "metadata": {
        "id": "yWxVBt5yPBUB"
      }
    },
    {
      "cell_type": "code",
      "source": [
        "import cv2\n",
        "import os\n",
        "import glob\n",
        "\n",
        "def adaptive_threshold_binary_images(input_path, output_path, max_value=255, block_size=11, c=2):\n",
        "    # Create the output folder if it doesn't exist.\n",
        "    if not os.path.exists(output_path):\n",
        "        os.makedirs(output_path)\n",
        "\n",
        "    # Get a list of all image files (assuming they are in a supported format like jpg, png, etc.) in the input folder.\n",
        "    image_files = glob.glob(os.path.join(input_path, '*.jpg')) + glob.glob(os.path.join(input_path, '*.png'))\n",
        "\n",
        "    for image_file in image_files:\n",
        "        # Load the binary image\n",
        "        binary_image = cv2.imread(image_file, cv2.IMREAD_GRAYSCALE)\n",
        "\n",
        "        # Apply adaptive thresholding to smoothen the binary image\n",
        "        smoothed_image = cv2.adaptiveThreshold(binary_image, max_value, cv2.ADAPTIVE_THRESH_MEAN_C, cv2.THRESH_BINARY, block_size, c)\n",
        "\n",
        "        # Save the smoothed binary image to the output folder\n",
        "        output_file = os.path.join(output_path, os.path.basename(image_file))\n",
        "        cv2.imwrite(output_file, smoothed_image)\n",
        "\n",
        "        print(f\"Processed {image_file} successfully.\")\n",
        "\n",
        "if __name__ == \"__main__\":\n",
        "    # Replace 'input_folder' and 'output_folder' with the actual paths to your input and output folders.\n",
        "    input_folder = 'input_folder'\n",
        "    output_folder = 'output_folder'\n",
        "\n",
        "    # Specify the parameters for adaptive thresholding (you can adjust these values as needed)\n",
        "    max_value = 255\n",
        "    block_size = 11\n",
        "    c = 2\n",
        "\n",
        "    adaptive_threshold_binary_images(input_folder, output_folder, max_value, block_size, c)\n"
      ],
      "metadata": {
        "id": "ndR9CBoWPDnA"
      },
      "execution_count": null,
      "outputs": []
    },
    {
      "cell_type": "code",
      "source": [],
      "metadata": {
        "id": "AjLyvTFwPnGk"
      },
      "execution_count": null,
      "outputs": []
    },
    {
      "cell_type": "markdown",
      "source": [
        "TVR"
      ],
      "metadata": {
        "id": "ITGH3OSXP33d"
      }
    },
    {
      "cell_type": "code",
      "source": [
        "import os\n",
        "import glob\n",
        "import cv2\n",
        "import numpy as np\n",
        "from skimage.restoration import denoise_tv_chambolle\n",
        "\n",
        "def tv_regularization_binary_images(input_path, output_path, weight=0.1, n_iter_max=100):\n",
        "    # Create the output folder if it doesn't exist.\n",
        "    if not os.path.exists(output_path):\n",
        "        os.makedirs(output_path)\n",
        "\n",
        "    # Get a list of all image files (assuming they are in a supported format like jpg, png, etc.) in the input folder.\n",
        "    image_files = glob.glob(os.path.join(input_path, '*.jpg')) + glob.glob(os.path.join(input_path, '*.png'))\n",
        "\n",
        "    for image_file in image_files:\n",
        "        # Load the binary image\n",
        "        binary_image = cv2.imread(image_file, cv2.IMREAD_GRAYSCALE)\n",
        "\n",
        "        # Apply total variation regularization for smoothing the binary image\n",
        "        smoothed_image = denoise_tv_chambolle(binary_image, weight=weight, n_iter_max=n_iter_max)\n",
        "\n",
        "        # Convert the floating-point image back to uint8 format (0 to 255)\n",
        "        smoothed_image = np.clip(smoothed_image * 255, 0, 255).astype(np.uint8)\n",
        "\n",
        "        # Save the smoothed binary image to the output folder\n",
        "        output_file = os.path.join(output_path, os.path.basename(image_file))\n",
        "        cv2.imwrite(output_file, smoothed_image)\n",
        "\n",
        "        print(f\"Processed {image_file} successfully.\")\n",
        "\n",
        "if __name__ == \"__main__\":\n",
        "    # Replace 'input_folder' and 'output_folder' with the actual paths to your input and output folders.\n",
        "    input_folder = 'input_folder'\n",
        "    output_folder = 'output_folder'\n",
        "\n",
        "    # Specify the weight and maximum number of iterations for TV regularization\n",
        "    weight = 0.1\n",
        "    n_iter_max = 100\n",
        "\n",
        "    tv_regularization_binary_images(input_folder, output_folder, weight, n_iter_max)\n"
      ],
      "metadata": {
        "id": "X9louCkLPnDv"
      },
      "execution_count": null,
      "outputs": []
    }
  ]
}