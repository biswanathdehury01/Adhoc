{
  "nbformat": 4,
  "nbformat_minor": 0,
  "metadata": {
    "colab": {
      "provenance": []
    },
    "kernelspec": {
      "name": "python3",
      "display_name": "Python 3"
    },
    "language_info": {
      "name": "python"
    }
  },
  "cells": [
    {
      "cell_type": "code",
      "execution_count": null,
      "metadata": {
        "id": "6NCt1rBTKMcQ"
      },
      "outputs": [],
      "source": []
    },
    {
      "cell_type": "code",
      "source": [
        "from google.colab import drive\n",
        "drive.mount('/content/drive')"
      ],
      "metadata": {
        "colab": {
          "base_uri": "https://localhost:8080/"
        },
        "id": "ZDgBrR2yKQB2",
        "outputId": "8f2d1795-b985-41db-c689-455fd0cb95f1"
      },
      "execution_count": 1,
      "outputs": [
        {
          "output_type": "stream",
          "name": "stdout",
          "text": [
            "Mounted at /content/drive\n"
          ]
        }
      ]
    },
    {
      "cell_type": "code",
      "source": [
        "import os\n",
        "from PIL import Image\n",
        "\n",
        "def convert_grayscale_to_rgb(input_path, output_path):\n",
        "    # Get a list of all files in the input directory and its subdirectories\n",
        "    for root, _, files in os.walk(input_path):\n",
        "        for file in files:\n",
        "            input_file_path = os.path.join(root, file)\n",
        "\n",
        "            # Check if the file is an image (you can add more extensions if needed)\n",
        "            if input_file_path.lower().endswith(('.png', '.jpg', '.jpeg', '.bmp')):\n",
        "                output_file_path = os.path.join(output_path, file)\n",
        "\n",
        "                # Open the grayscale image\n",
        "                grayscale_image = Image.open(input_file_path)\n",
        "\n",
        "                # Convert to RGB by duplicating the intensity across all three channels\n",
        "                rgb_image = grayscale_image.convert('RGB')\n",
        "\n",
        "                # Save the RGB image\n",
        "                rgb_image.save(output_file_path)\n",
        "\n",
        "if __name__ == \"__main__\":\n",
        "    input_directory_path = \"/content/drive/MyDrive/Car_Images\"  # Replace with the directory containing grayscale images\n",
        "    output_directory_path = \"/content/drive/MyDrive/Car_Images/output\"  # Replace with the directory to save RGB images\n",
        "\n",
        "    convert_grayscale_to_rgb(input_directory_path, output_directory_path)\n"
      ],
      "metadata": {
        "id": "yhY6bkG4KQ5K"
      },
      "execution_count": 4,
      "outputs": []
    },
    {
      "cell_type": "code",
      "source": [
        "import os\n",
        "from PIL import Image\n",
        "\n",
        "def image_to_binary_mask(input_path, output_path, threshold=128):\n",
        "    # Open the image\n",
        "    image = Image.open(input_path)\n",
        "\n",
        "    # Convert the image to grayscale (if it's not already)\n",
        "    image = image.convert('L')\n",
        "\n",
        "    # Apply thresholding to create the binary mask\n",
        "    binary_mask = image.point(lambda x: 0 if x < threshold else 255, '1')\n",
        "\n",
        "    # Save the binary mask\n",
        "    binary_mask.save(output_path)\n",
        "\n",
        "def convert_images_to_binary_masks(input_directory, output_directory, threshold=128):\n",
        "    # Get a list of all files in the input directory and its subdirectories\n",
        "    for root, _, files in os.walk(input_directory):\n",
        "        for file in files:\n",
        "            input_image_path = os.path.join(root, file)\n",
        "\n",
        "            # Check if the file is an image (you can add more extensions if needed)\n",
        "            if input_image_path.lower().endswith(('.png', '.jpg', '.jpeg', '.bmp')):\n",
        "                output_mask_path = os.path.join(output_directory, file)\n",
        "\n",
        "                # Convert the image to binary mask\n",
        "                image_to_binary_mask(input_image_path, output_mask_path, threshold=threshold)\n",
        "\n",
        "if __name__ == \"__main__\":\n",
        "    input_directory_path = \"/content/drive/MyDrive/Car_Images\"  # Replace with the directory containing images\n",
        "    output_directory_path = \"/content/drive/MyDrive/Car_Images/binary_mask\"  # Replace with the directory to save binary masks\n",
        "\n",
        "    # Optionally, you can adjust the threshold value (0-255) as per your preference.\n",
        "    # Lower threshold values make the mask more inclusive, and higher values make it more restrictive.\n",
        "    threshold_value = 128\n",
        "\n",
        "    convert_images_to_binary_masks(input_directory_path, output_directory_path, threshold=threshold_value)\n"
      ],
      "metadata": {
        "id": "B5guwnawPZjp"
      },
      "execution_count": 5,
      "outputs": []
    },
    {
      "cell_type": "code",
      "source": [],
      "metadata": {
        "id": "TEygtnCwPnRQ"
      },
      "execution_count": null,
      "outputs": []
    }
  ]
}