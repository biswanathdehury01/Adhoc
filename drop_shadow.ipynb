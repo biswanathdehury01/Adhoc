{
  "nbformat": 4,
  "nbformat_minor": 0,
  "metadata": {
    "colab": {
      "provenance": []
    },
    "kernelspec": {
      "name": "python3",
      "display_name": "Python 3"
    },
    "language_info": {
      "name": "python"
    }
  },
  "cells": [
    {
      "cell_type": "code",
      "execution_count": null,
      "metadata": {
        "id": "UyM311Ey7VUP"
      },
      "outputs": [],
      "source": [
        "import cv2\n",
        "import matplotlib.pyplot as plt\n",
        "\n",
        "# Load the image\n",
        "image = cv2.imread('input_image.jpg')\n",
        "\n",
        "# Convert the image to grayscale\n",
        "gray = cv2.cvtColor(image, cv2.COLOR_BGR2GRAY)\n",
        "\n",
        "# Apply thresholding to extract the object\n",
        "_, threshold = cv2.threshold(gray, 0, 255, cv2.THRESH_BINARY)\n",
        "\n",
        "# Find contours of the object\n",
        "contours, _ = cv2.findContours(threshold, cv2.RETR_EXTERNAL, cv2.CHAIN_APPROX_SIMPLE)\n",
        "\n",
        "# Create a blank canvas\n",
        "canvas = np.zeros_like(image)\n",
        "\n",
        "# Loop over the contours\n",
        "for contour in contours:\n",
        "    # Calculate the bounding box of the contour\n",
        "    x, y, w, h = cv2.boundingRect(contour)\n",
        "\n",
        "    # Add padding to the bounding box\n",
        "    padding = 20\n",
        "    x -= padding\n",
        "    y -= padding\n",
        "    w += 2 * padding\n",
        "    h += 2 * padding\n",
        "\n",
        "    # Crop the region containing the tires\n",
        "    tire_region = image[y:y+h, x:x+w]\n",
        "\n",
        "    # Create a mask for the tire region\n",
        "    mask = np.zeros_like(tire_region)\n",
        "    cv2.drawContours(mask, [contour - (x, y)], 0, (255, 255, 255), -1)\n",
        "\n",
        "    # Apply a Gaussian blur to the mask\n",
        "    blurred_mask = cv2.GaussianBlur(mask, (25, 25), 0)\n",
        "\n",
        "    # Offset the blurred mask downwards to create the shadow effect\n",
        "    shadow_offset = 20\n",
        "    M = np.float32([[1, 0, 0], [0, 1, shadow_offset]])\n",
        "    shifted_mask = cv2.warpAffine(blurred_mask, M, (w, h))\n",
        "\n",
        "    # Combine the original tire region and the shifted mask\n",
        "    shadow = cv2.addWeighted(tire_region, 1, shifted_mask, 0.7, 0)\n",
        "\n",
        "    # Replace the tire region with the shadow\n",
        "    canvas[y:y+h, x:x+w] = shadow\n",
        "\n",
        "# Display the result using matplotlib\n",
        "plt.imshow(cv2.cvtColor(canvas, cv2.COLOR_BGR2RGB))\n",
        "plt.axis('off')\n",
        "plt.show()\n"
      ]
    }
  ]
}